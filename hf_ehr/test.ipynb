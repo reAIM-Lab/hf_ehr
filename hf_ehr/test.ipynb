{
 "cells": [
  {
   "cell_type": "markdown",
   "metadata": {},
   "source": []
  },
  {
   "cell_type": "code",
   "execution_count": 2,
   "metadata": {},
   "outputs": [
    {
     "name": "stdout",
     "output_type": "stream",
     "text": [
      "death, 0.8471559570138356,0.004638972816992518\n",
      "Ischemic_Stroke, 0.8287356814239439,0.007646316807844719\n",
      "MASLD, 0.6832823966663478,0.009281099475627058\n",
      "T2DM, 0.6979237817354808,0.007938936499336646\n",
      "readmission, 0.7461409800251999,0.0028378329805847508\n",
      "Osteoporosis, 0.6633957330666945,0.006596474146416889\n",
      "Pancreatic_Cancer, 0.6565540496600915,0.024333363691703483\n",
      "AMI, 0.8059336906342147,0.008193773410687569\n",
      "SLE, 0.683326435922486,0.03115229187551435\n",
      "long_los, 0.7599265474938093,0.0019184894713761707\n",
      "Celiac, 0.5405824415329836,0.03883890787649895\n",
      "HTN, 0.695565295999242,0.003961736002128258\n",
      "CLL, 0.601753115218431,0.032225450076483635\n",
      "Schizophrenia, 0.7561557352996968,0.016323554537649238\n"
     ]
    }
   ],
   "source": [
    "from pathlib import Path\n",
    "import json\n",
    "model=\"llama\"\n",
    "base_dir = Path(f\"/data/processed_datasets/processed_datasets/ehr_foundation_data/ohdsi_cumc_deid/ohdsi_cumc_deid_2023q4r3_v3_mapped/{model}/results/\")\n",
    "for cohort_dir in base_dir.iterdir():\n",
    "    if not cohort_dir.is_dir():\n",
    "        continue\n",
    "    if cohort_dir.name == \"Schizophrenia\":\n",
    "        results_path = cohort_dir/f\"{model}_2298\"/\"results_boot.json\"\n",
    "    else:\n",
    "        results_path = cohort_dir/f\"{model}_100000\"/\"results_boot.json\"\n",
    "    with open(results_path,\"r\") as file:\n",
    "        file = json.load(file)\n",
    "        print(f\"{cohort_dir.name}, {file['mean_roc_auc_score']},{file['std_roc_auc_score']}\")\n"
   ]
  },
  {
   "cell_type": "code",
   "execution_count": 1,
   "metadata": {},
   "outputs": [
    {
     "name": "stdout",
     "output_type": "stream",
     "text": [
      "death, 0.8999911752007753,0.0037096911558551445\n",
      "Ischemic_Stroke, 0.8399353785003618,0.0070938141313225435\n",
      "MASLD, 0.6748256376806822,0.008127751920035934\n",
      "T2DM, 0.6960185322781618,0.009131274340247748\n",
      "readmission, 0.7537604238922577,0.002806854329063272\n",
      "Osteoporosis, 0.6870120248739083,0.006599129219315169\n",
      "Pancreatic_Cancer, 0.6132631600896822,0.023443885293340773\n",
      "AMI, 0.7971072718861741,0.00792048053067011\n",
      "SLE, 0.6444473634702212,0.03406160514742164\n",
      "long_los, 0.7980166271501469,0.0021318608558520127\n",
      "Celiac, 0.6095148712210099,0.037730139209392756\n",
      "HTN, 0.7023184610269406,0.0034610591496346973\n",
      "CLL, 0.5955880480452634,0.03442766107255921\n",
      "Schizophrenia, 0.7609176281778786,0.018871014760959808\n"
     ]
    }
   ],
   "source": [
    "from pathlib import Path\n",
    "import json\n",
    "model=\"llama_novalue\"\n",
    "base_dir = Path(f\"/data/processed_datasets/processed_datasets/ehr_foundation_data/ohdsi_cumc_deid/ohdsi_cumc_deid_2023q4r3_v3_mapped/{model}/results/\")\n",
    "for cohort_dir in base_dir.iterdir():\n",
    "    if not cohort_dir.is_dir():\n",
    "        continue\n",
    "    if cohort_dir.name == \"Schizophrenia\":\n",
    "        results_path = cohort_dir/f\"{model}_2298\"/\"results_boot.json\"\n",
    "    else:\n",
    "        results_path = cohort_dir/f\"{model}_100000\"/\"results_boot.json\"\n",
    "    with open(results_path,\"r\") as file:\n",
    "        file = json.load(file)\n",
    "        print(f\"{cohort_dir.name}, {file['mean_roc_auc_score']},{file['std_roc_auc_score']}\")\n"
   ]
  },
  {
   "cell_type": "code",
   "execution_count": 1,
   "metadata": {},
   "outputs": [
    {
     "name": "stdout",
     "output_type": "stream",
     "text": [
      "death, 0.828256257199388,0.004815141814206402\n",
      "Ischemic_Stroke, 0.8221497859819678,0.009495260814231953\n",
      "MASLD, 0.6749581335116558,0.009050539645048119\n",
      "T2DM, 0.6823766117374612,0.008261094314490102\n",
      "readmission, 0.7349236142036976,0.0028390692273532656\n",
      "Osteoporosis, 0.6633912413589088,0.0062978971225101975\n",
      "Pancreatic_Cancer, 0.6515080603276353,0.02289173634973788\n",
      "AMI, 0.7850022285888504,0.010211080348858738\n",
      "SLE, 0.5937399680290806,0.029850423945064323\n",
      "long_los, 0.7416609370069471,0.0021968060468759106\n",
      "Celiac, 0.6845210356781913,0.033234506389862056\n",
      "HTN, 0.6941819055623157,0.0039420997474270535\n",
      "CLL, 0.5537709975478698,0.03313915068853377\n",
      "Schizophrenia, 0.7355333282791454,0.01731450325609687\n"
     ]
    }
   ],
   "source": [
    "from pathlib import Path\n",
    "import json\n",
    "model=\"llama\"\n",
    "base_dir = Path(f\"/data/processed_datasets/processed_datasets/ehr_foundation_data/ohdsi_cumc_deid/ohdsi_cumc_deid_2023q4r3_v3_mapped/{model}/results/\")\n",
    "for cohort_dir in base_dir.iterdir():\n",
    "    if not cohort_dir.is_dir():\n",
    "        continue\n",
    "    if cohort_dir.name == \"Schizophrenia\":\n",
    "        results_path = cohort_dir/f\"{model}_2298\"/\"results_boot.json\"\n",
    "    else:\n",
    "        results_path = cohort_dir/f\"{model}_100000\"/\"results_boot.json\"\n",
    "    with open(results_path,\"r\") as file:\n",
    "        file = json.load(file)\n",
    "        print(f\"{cohort_dir.name}, {file['mean_roc_auc_score']},{file['std_roc_auc_score']}\")"
   ]
  },
  {
   "cell_type": "code",
   "execution_count": 2,
   "metadata": {},
   "outputs": [
    {
     "name": "stdout",
     "output_type": "stream",
     "text": [
      "death, 0.8824448621951783,0.003523388872337412\n",
      "Ischemic_Stroke, 0.8629143867368707,0.005935081524053627\n",
      "MASLD, 0.7085458359626529,0.008173191118410103\n",
      "T2DM, 0.7666777761083113,0.007323319625188146\n",
      "readmission, 0.7515336412044783,0.0030585955552018887\n",
      "Osteoporosis, 0.7081930114396274,0.005704298676344615\n",
      "Pancreatic_Cancer, 0.7509250975011424,0.016633340551566362\n",
      "AMI, 0.8129745734956526,0.00875022442532918\n",
      "SLE, 0.7759885231964881,0.033831403477489266\n",
      "long_los, 0.7869205016938345,0.001791553471826423\n",
      "Celiac, 0.6324157726512953,0.03158193569034274\n",
      "HTN, 0.7221370633286907,0.0035283889319912207\n",
      "CLL, 0.6872607298800059,0.032353965186008124\n",
      "Schizophrenia, 0.7513702183950153,0.01661785268336174\n"
     ]
    }
   ],
   "source": [
    "from pathlib import Path\n",
    "import json\n",
    "model=\"mamba\"\n",
    "base_dir = Path(f\"/data/processed_datasets/processed_datasets/ehr_foundation_data/ohdsi_cumc_deid/ohdsi_cumc_deid_2023q4r3_v3_mapped/{model}/results/\")\n",
    "for cohort_dir in base_dir.iterdir():\n",
    "    if not cohort_dir.is_dir():\n",
    "        continue\n",
    "    if cohort_dir.name == \"Schizophrenia\":\n",
    "        results_path = cohort_dir/f\"{model}_2298\"/\"results_boot.json\"\n",
    "    else:\n",
    "        results_path = cohort_dir/f\"{model}_100000\"/\"results_boot.json\"\n",
    "    with open(results_path,\"r\") as file:\n",
    "        file = json.load(file)\n",
    "        print(f\"{cohort_dir.name}, {file['mean_roc_auc_score']},{file['std_roc_auc_score']}\")\n"
   ]
  },
  {
   "cell_type": "code",
   "execution_count": 3,
   "metadata": {},
   "outputs": [
    {
     "name": "stdout",
     "output_type": "stream",
     "text": [
      "death, 0.8828545215115703,0.0035247121431927213\n",
      "Ischemic_Stroke, 0.8629143867368707,0.005935081524053627\n",
      "MASLD, 0.7085458359626529,0.008173191118410103\n",
      "T2DM, 0.7666777761083113,0.007323319625188146\n",
      "readmission, 0.7515615196593793,0.003059686456140937\n",
      "Osteoporosis, 0.7081930114396274,0.005704298676344615\n",
      "Pancreatic_Cancer, 0.7509250975011424,0.016633340551566362\n",
      "AMI, 0.8129745734956526,0.00875022442532918\n",
      "SLE, 0.7759885231964881,0.033831403477489266\n",
      "long_los, 0.7869158170000212,0.0017877858163773673\n",
      "Celiac, 0.63479140124185,0.04453098304447377\n",
      "HTN, 0.7221370633286907,0.0035283889319912207\n",
      "CLL, 0.6872607298800059,0.032353965186008124\n",
      "Schizophrenia, 0.751269600834138,0.01662742080394645\n"
     ]
    }
   ],
   "source": [
    "from pathlib import Path\n",
    "import json\n",
    "model=\"mamba\"\n",
    "base_dir = Path(f\"/data/processed_datasets/processed_datasets/ehr_foundation_data/ohdsi_cumc_deid/ohdsi_cumc_deid_2023q4r3_v3_mapped/{model}/results/\")\n",
    "for cohort_dir in base_dir.iterdir():\n",
    "    if not cohort_dir.is_dir():\n",
    "        continue\n",
    "    if cohort_dir.name == \"Schizophrenia\":\n",
    "        results_path = cohort_dir/f\"{model}_2298\"/\"results_boot.json\"\n",
    "    else:\n",
    "        results_path = cohort_dir/f\"{model}_100000\"/\"results_boot.json\"\n",
    "    with open(results_path,\"r\") as file:\n",
    "        file = json.load(file)\n",
    "        print(f\"{cohort_dir.name}, {file['mean_roc_auc_score']},{file['std_roc_auc_score']}\")\n"
   ]
  },
  {
   "cell_type": "markdown",
   "metadata": {},
   "source": [
    "/data/processed_datasets/processed_datasets/ehr_foundation_data/ohdsi_cumc_deid/ohdsi_cumc_deid_2023q4r3_v3_mapped/llama/results/"
   ]
  },
  {
   "cell_type": "code",
   "execution_count": 2,
   "metadata": {},
   "outputs": [
    {
     "name": "stdout",
     "output_type": "stream",
     "text": [
      "{'mean_brier_score': 0.019834200112062373, 'std_brier_score': 0.0005677767488930278, 'mean_average_precision_score': 0.09843773859498998, 'std_average_precision_score': 0.006692525416958209, 'mean_calibration_error': 0.12293522743295496, 'std_calibration_error': 0.032363847554788445, 'mean_roc_auc_score': 0.828256257199388, 'std_roc_auc_score': 0.004815141814206402}\n"
     ]
    }
   ],
   "source": [
    "import json\n",
    "boot_path = \"/data/processed_datasets/processed_datasets/ehr_foundation_data/ohdsi_cumc_deid/ohdsi_cumc_deid_2023q4r3_v3_mapped/llama_v0/results/death/llama_100000/results_boot.json\"\n",
    "with open(boot_path,\"r\") as file:\n",
    "    file = json.load(file)\n",
    "print(file)"
   ]
  }
 ],
 "metadata": {
  "kernelspec": {
   "display_name": "hf_env",
   "language": "python",
   "name": "python3"
  },
  "language_info": {
   "codemirror_mode": {
    "name": "ipython",
    "version": 3
   },
   "file_extension": ".py",
   "mimetype": "text/x-python",
   "name": "python",
   "nbconvert_exporter": "python",
   "pygments_lexer": "ipython3",
   "version": "3.11.11"
  }
 },
 "nbformat": 4,
 "nbformat_minor": 2
}
